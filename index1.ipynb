{
 "cells": [
  {
   "cell_type": "code",
   "execution_count": null,
   "metadata": {},
   "outputs": [],
   "source": [
    "import pandas as pd\n",
    "import seaborn as sns\n",
    "import matplotlib.pyplot as plt\n",
    "\n",
    "# Load the dataset\n",
    "data = pd.read_csv('Telco-Customer-Churn.csv')\n",
    "\n",
    "# Display the first few rows of the dataset\n",
    "print(data.head())\n",
    "encoded_data = pd.get_dummies(data)\n",
    "\n",
    "# Pie chart for class distribution\n",
    "# plt.figure(figsize=(8, 6))\n",
    "# data['Churn'].value_counts().plot(kind='pie', autopct='%1.1f%%', colors=['lightblue', 'lightgreen'])\n",
    "# plt.title('Class Distribution')\n",
    "# plt.ylabel('')\n",
    "# plt.show()\n",
    "\n",
    "\n",
    "# # Heatmap correlation\n",
    "# plt.figure(figsize=(12, 8))\n",
    "# sns.heatmap(encoded_data.corr(), annot=True, cmap='coolwarm', fmt=\".2f\")\n",
    "# plt.title('Heatmap Correlation')\n",
    "# plt.show()\n",
    "\n",
    "\n",
    "# Bar chart for distribution of contracts\n",
    "plt.figure(figsize=(10, 6))\n",
    "data['Contract'].value_counts().plot(kind='bar', color='skyblue')\n",
    "plt.title('Distribution of Contracts')\n",
    "plt.xlabel('Contract Type')\n",
    "plt.ylabel('Count')\n",
    "plt.xticks(rotation=45)\n",
    "plt.show()\n"
   ]
  },
  {
   "cell_type": "code",
   "execution_count": 7,
   "metadata": {},
   "outputs": [
    {
     "ename": "NameError",
     "evalue": "name 'y_test' is not defined",
     "output_type": "error",
     "traceback": [
      "\u001b[1;31m---------------------------------------------------------------------------\u001b[0m",
      "\u001b[1;31mNameError\u001b[0m                                 Traceback (most recent call last)",
      "Cell \u001b[1;32mIn[7], line 4\u001b[0m\n\u001b[0;32m      1\u001b[0m \u001b[38;5;28;01mfrom\u001b[39;00m \u001b[38;5;21;01msklearn\u001b[39;00m\u001b[38;5;21;01m.\u001b[39;00m\u001b[38;5;21;01mmetrics\u001b[39;00m \u001b[38;5;28;01mimport\u001b[39;00m confusion_matrix, accuracy_score, precision_score, recall_score, f1_score\n\u001b[0;32m      3\u001b[0m \u001b[38;5;66;03m# Naive Bayes classifier\u001b[39;00m\n\u001b[1;32m----> 4\u001b[0m nb_conf_matrix \u001b[38;5;241m=\u001b[39m confusion_matrix(\u001b[43my_test\u001b[49m, nb_pred)\n\u001b[0;32m      5\u001b[0m nb_accuracy \u001b[38;5;241m=\u001b[39m accuracy_score(y_test, nb_pred)\n\u001b[0;32m      6\u001b[0m nb_precision \u001b[38;5;241m=\u001b[39m precision_score(y_test, nb_pred)\n",
      "\u001b[1;31mNameError\u001b[0m: name 'y_test' is not defined"
     ]
    }
   ],
   "source": []
  }
 ],
 "metadata": {
  "kernelspec": {
   "display_name": "Python 3",
   "language": "python",
   "name": "python3"
  },
  "language_info": {
   "codemirror_mode": {
    "name": "ipython",
    "version": 3
   },
   "file_extension": ".py",
   "mimetype": "text/x-python",
   "name": "python",
   "nbconvert_exporter": "python",
   "pygments_lexer": "ipython3",
   "version": "3.12.2"
  }
 },
 "nbformat": 4,
 "nbformat_minor": 2
}
